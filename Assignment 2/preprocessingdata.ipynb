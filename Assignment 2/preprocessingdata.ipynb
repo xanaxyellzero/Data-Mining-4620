{
  "nbformat": 4,
  "nbformat_minor": 0,
  "metadata": {
    "colab": {
      "name": "preprocessingdata.ipynb",
      "provenance": []
    },
    "kernelspec": {
      "name": "python3",
      "display_name": "Python 3"
    },
    "language_info": {
      "name": "python"
    }
  },
  "cells": [
    {
      "cell_type": "code",
      "execution_count": 4,
      "metadata": {
        "id": "LlZfpiXCQ8Fm"
      },
      "outputs": [],
      "source": [
        "import numpy as np\n",
        "import matplotlib.pyplot as plt\n",
        "import pandas as pd"
      ]
    },
    {
      "cell_type": "code",
      "source": [
        "dataset = pd.read_csv('data-produksi-benih-ikan-di-provinsi-dki-jakarta-tahun-2019.csv')\n",
        "x = dataset.iloc[:, :-1].values\n",
        "y = dataset.iloc[:, -1].values"
      ],
      "metadata": {
        "id": "xsA7JJB3RCrP"
      },
      "execution_count": 5,
      "outputs": []
    },
    {
      "cell_type": "code",
      "source": [
        "print(x)"
      ],
      "metadata": {
        "colab": {
          "base_uri": "https://localhost:8080/"
        },
        "id": "S24SZhRBRQSf",
        "outputId": "b1ac3c3c-5a29-4ea9-fcfb-0dcfb49f885e"
      },
      "execution_count": 6,
      "outputs": [
        {
          "output_type": "stream",
          "name": "stdout",
          "text": [
            "[['Mas' 2019.0 nan]\n",
            " ['Nila' 2019.0 4558651.0]\n",
            " ['Gurame' 2019.0 227728.0]\n",
            " ['Lele' 2019.0 2366170.0]\n",
            " ['Kerapu Macan' 2019.0 1541280.0]\n",
            " ['Kerapu Hybrid' 2019.0 34500.0]\n",
            " ['Kakap Putih' 2019.0 1839120.0]\n",
            " ['Bawal Bintang' nan 8400.0]]\n"
          ]
        }
      ]
    },
    {
      "cell_type": "code",
      "source": [
        "print(y)"
      ],
      "metadata": {
        "colab": {
          "base_uri": "https://localhost:8080/"
        },
        "id": "gBQcpsHNRozv",
        "outputId": "b28db5a9-06e0-41da-eef9-e5f754e82d08"
      },
      "execution_count": 7,
      "outputs": [
        {
          "output_type": "stream",
          "name": "stdout",
          "text": [
            "['Tawar' 'Tawar' 'Tawar' 'Tawar' 'Laut' 'Laut' 'Laut' 'Laut']\n"
          ]
        }
      ]
    },
    {
      "cell_type": "code",
      "source": [
        "from sklearn.impute import SimpleImputer\n",
        "imputer = SimpleImputer(missing_values=np.nan, strategy='most_frequent')\n",
        "imputer.fit(x[:, 1:3])\n",
        "x[:, 1:3] = imputer.transform(x[:, 1:3])"
      ],
      "metadata": {
        "id": "N1QQq7pLRuOE"
      },
      "execution_count": 8,
      "outputs": []
    },
    {
      "cell_type": "code",
      "source": [
        "print(x)"
      ],
      "metadata": {
        "colab": {
          "base_uri": "https://localhost:8080/"
        },
        "id": "WExCfmfWRyQC",
        "outputId": "b28ec3d3-487b-4d5a-96ef-f54fd71553d0"
      },
      "execution_count": 9,
      "outputs": [
        {
          "output_type": "stream",
          "name": "stdout",
          "text": [
            "[['Mas' 2019.0 8400.0]\n",
            " ['Nila' 2019.0 4558651.0]\n",
            " ['Gurame' 2019.0 227728.0]\n",
            " ['Lele' 2019.0 2366170.0]\n",
            " ['Kerapu Macan' 2019.0 1541280.0]\n",
            " ['Kerapu Hybrid' 2019.0 34500.0]\n",
            " ['Kakap Putih' 2019.0 1839120.0]\n",
            " ['Bawal Bintang' 2019.0 8400.0]]\n"
          ]
        }
      ]
    },
    {
      "cell_type": "code",
      "source": [
        "from sklearn.compose import ColumnTransformer\n",
        "from sklearn.preprocessing import OneHotEncoder\n",
        "ct = ColumnTransformer(transformers=[('encoder', OneHotEncoder(), [0])], remainder='passthrough')\n",
        "x = np.array(ct.fit_transform(x))"
      ],
      "metadata": {
        "id": "iYmbMghNR8jq"
      },
      "execution_count": 10,
      "outputs": []
    },
    {
      "cell_type": "code",
      "source": [
        "print(x)"
      ],
      "metadata": {
        "colab": {
          "base_uri": "https://localhost:8080/"
        },
        "id": "nezQm4AtSBIZ",
        "outputId": "145e2a17-36a2-402d-ea5d-63bac6a5b1d5"
      },
      "execution_count": 11,
      "outputs": [
        {
          "output_type": "stream",
          "name": "stdout",
          "text": [
            "[[0.0 0.0 0.0 0.0 0.0 0.0 1.0 0.0 2019.0 8400.0]\n",
            " [0.0 0.0 0.0 0.0 0.0 0.0 0.0 1.0 2019.0 4558651.0]\n",
            " [0.0 1.0 0.0 0.0 0.0 0.0 0.0 0.0 2019.0 227728.0]\n",
            " [0.0 0.0 0.0 0.0 0.0 1.0 0.0 0.0 2019.0 2366170.0]\n",
            " [0.0 0.0 0.0 0.0 1.0 0.0 0.0 0.0 2019.0 1541280.0]\n",
            " [0.0 0.0 0.0 1.0 0.0 0.0 0.0 0.0 2019.0 34500.0]\n",
            " [0.0 0.0 1.0 0.0 0.0 0.0 0.0 0.0 2019.0 1839120.0]\n",
            " [1.0 0.0 0.0 0.0 0.0 0.0 0.0 0.0 2019.0 8400.0]]\n"
          ]
        }
      ]
    },
    {
      "cell_type": "code",
      "source": [
        "from sklearn.preprocessing import LabelEncoder\n",
        "le = LabelEncoder()\n",
        "y = le.fit_transform(y)"
      ],
      "metadata": {
        "id": "FLtjPJqOSGVp"
      },
      "execution_count": 12,
      "outputs": []
    },
    {
      "cell_type": "code",
      "source": [
        "print(y)"
      ],
      "metadata": {
        "colab": {
          "base_uri": "https://localhost:8080/"
        },
        "id": "bwC9qMkYSI6z",
        "outputId": "31cb9ecc-d9f9-407b-ce71-8e13f3ba37a0"
      },
      "execution_count": 13,
      "outputs": [
        {
          "output_type": "stream",
          "name": "stdout",
          "text": [
            "[1 1 1 1 0 0 0 0]\n"
          ]
        }
      ]
    },
    {
      "cell_type": "code",
      "source": [
        "from sklearn.model_selection import train_test_split\n",
        "x_train, x_test, y_train, y_test = train_test_split(x, y, test_size=0.2, random_state=1)"
      ],
      "metadata": {
        "id": "PK9NiuOwSOfd"
      },
      "execution_count": 14,
      "outputs": []
    },
    {
      "cell_type": "code",
      "source": [
        "print(x_train)"
      ],
      "metadata": {
        "colab": {
          "base_uri": "https://localhost:8080/"
        },
        "id": "56Ts5rmfSfjI",
        "outputId": "3afb2434-e8ce-4796-83b0-6b739a341ee7"
      },
      "execution_count": 15,
      "outputs": [
        {
          "output_type": "stream",
          "name": "stdout",
          "text": [
            "[[0.0 0.0 0.0 0.0 0.0 0.0 0.0 1.0 2019.0 4558651.0]\n",
            " [0.0 0.0 1.0 0.0 0.0 0.0 0.0 0.0 2019.0 1839120.0]\n",
            " [0.0 0.0 0.0 0.0 0.0 0.0 1.0 0.0 2019.0 8400.0]\n",
            " [0.0 0.0 0.0 0.0 1.0 0.0 0.0 0.0 2019.0 1541280.0]\n",
            " [0.0 0.0 0.0 0.0 0.0 1.0 0.0 0.0 2019.0 2366170.0]\n",
            " [0.0 0.0 0.0 1.0 0.0 0.0 0.0 0.0 2019.0 34500.0]]\n"
          ]
        }
      ]
    },
    {
      "cell_type": "code",
      "source": [
        "print(x_test)"
      ],
      "metadata": {
        "colab": {
          "base_uri": "https://localhost:8080/"
        },
        "id": "bGcurY9BSu5u",
        "outputId": "51a33cbd-db4c-44b9-81a2-35d241c5c924"
      },
      "execution_count": 16,
      "outputs": [
        {
          "output_type": "stream",
          "name": "stdout",
          "text": [
            "[[1.0 0.0 0.0 0.0 0.0 0.0 0.0 0.0 2019.0 8400.0]\n",
            " [0.0 1.0 0.0 0.0 0.0 0.0 0.0 0.0 2019.0 227728.0]]\n"
          ]
        }
      ]
    },
    {
      "cell_type": "code",
      "source": [
        "print(y_train)"
      ],
      "metadata": {
        "colab": {
          "base_uri": "https://localhost:8080/"
        },
        "id": "O5KDl9dZS3qB",
        "outputId": "57c0dc9b-db10-4fc4-b884-4277479a368a"
      },
      "execution_count": 17,
      "outputs": [
        {
          "output_type": "stream",
          "name": "stdout",
          "text": [
            "[1 0 1 0 1 0]\n"
          ]
        }
      ]
    },
    {
      "cell_type": "code",
      "source": [
        "print(y_test)"
      ],
      "metadata": {
        "colab": {
          "base_uri": "https://localhost:8080/"
        },
        "id": "Mv_V6Hm1S7v1",
        "outputId": "390234f8-cb66-4c3b-a711-f72bd26e43d1"
      },
      "execution_count": 18,
      "outputs": [
        {
          "output_type": "stream",
          "name": "stdout",
          "text": [
            "[0 1]\n"
          ]
        }
      ]
    },
    {
      "cell_type": "code",
      "source": [
        "from sklearn.preprocessing import StandardScaler\n",
        "sc = StandardScaler()\n",
        "x_train[:, 3:] = sc.fit_transform(x_train[:, 3:])\n",
        "x_test[:, 3:] = sc.transform(x_test[:, 3:])"
      ],
      "metadata": {
        "id": "npKp7DLfTTYb"
      },
      "execution_count": 33,
      "outputs": []
    },
    {
      "cell_type": "code",
      "source": [
        "print(x_train)"
      ],
      "metadata": {
        "colab": {
          "base_uri": "https://localhost:8080/"
        },
        "id": "DUYMMz4aUI0g",
        "outputId": "4c46d0c9-fc90-4c48-9835-ec5630ea0c02"
      },
      "execution_count": 34,
      "outputs": [
        {
          "output_type": "stream",
          "name": "stdout",
          "text": [
            "[[0.0 0.0 -0.44721359549995787 -0.447213595499958 -0.4472135954999579\n",
            "  -0.447213595499958 -0.447213595499958 2.23606797749979 0.0\n",
            "  1.836217428408747]\n",
            " [0.0 0.0 2.2360679774997894 -0.447213595499958 -0.4472135954999579\n",
            "  -0.447213595499958 -0.447213595499958 -0.447213595499958 0.0\n",
            "  0.07414496537847404]\n",
            " [0.0 0.0 -0.44721359549995787 -0.447213595499958 -0.4472135954999579\n",
            "  -0.447213595499958 2.23606797749979 -0.447213595499958 0.0\n",
            "  -1.112037982901498]\n",
            " [0.0 0.0 -0.44721359549995787 -0.447213595499958 2.23606797749979\n",
            "  -0.447213595499958 -0.447213595499958 -0.447213595499958 0.0\n",
            "  -0.11883524421977522]\n",
            " [0.0 0.0 -0.44721359549995787 -0.447213595499958 -0.4472135954999579\n",
            "  2.23606797749979 -0.447213595499958 -0.447213595499958 0.0\n",
            "  0.4156377785290155]\n",
            " [0.0 0.0 -0.44721359549995787 2.23606797749979 -0.4472135954999579\n",
            "  -0.447213595499958 -0.447213595499958 -0.447213595499958 0.0\n",
            "  -1.0951269451949632]]\n"
          ]
        }
      ]
    },
    {
      "cell_type": "code",
      "source": [
        "print(x_test)"
      ],
      "metadata": {
        "colab": {
          "base_uri": "https://localhost:8080/"
        },
        "id": "TJPt5CFpV-Qs",
        "outputId": "696722fc-1edd-4b2d-d9be-403c6c0c99a8"
      },
      "execution_count": 35,
      "outputs": [
        {
          "output_type": "stream",
          "name": "stdout",
          "text": [
            "[[1.0 0.0 -0.44721359549995787 -0.447213595499958 -0.4472135954999579\n",
            "  -0.447213595499958 -0.447213595499958 -0.447213595499958 0.0\n",
            "  -1.112037982901498]\n",
            " [0.0 1.0 -0.44721359549995787 -0.447213595499958 -0.4472135954999579\n",
            "  -0.447213595499958 -0.447213595499958 -0.447213595499958 0.0\n",
            "  -0.9699282481084386]]\n"
          ]
        }
      ]
    }
  ]
}