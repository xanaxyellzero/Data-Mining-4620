{
  "nbformat": 4,
  "nbformat_minor": 0,
  "metadata": {
    "colab": {
      "name": "naivebayes.ipynb",
      "provenance": []
    },
    "kernelspec": {
      "name": "python3",
      "display_name": "Python 3"
    },
    "language_info": {
      "name": "python"
    }
  },
  "cells": [
    {
      "cell_type": "code",
      "execution_count": 6,
      "metadata": {
        "colab": {
          "base_uri": "https://localhost:8080/",
          "height": 808
        },
        "id": "N5DeuK3Zk0vy",
        "outputId": "3a6af226-5b6c-48ef-fe82-39250626bc3e"
      },
      "outputs": [
        {
          "output_type": "stream",
          "name": "stderr",
          "text": [
            "*c* argument looks like a single numeric RGB or RGBA sequence, which should be avoided as value-mapping will have precedence in case its length matches with *x* & *y*.  Please use the *color* keyword-argument or provide a 2-D array with a single row if you intend to specify the same RGB or RGBA value for all points.\n",
            "*c* argument looks like a single numeric RGB or RGBA sequence, which should be avoided as value-mapping will have precedence in case its length matches with *x* & *y*.  Please use the *color* keyword-argument or provide a 2-D array with a single row if you intend to specify the same RGB or RGBA value for all points.\n"
          ]
        },
        {
          "output_type": "stream",
          "name": "stdout",
          "text": [
            "[[ 1 70]\n",
            " [ 1 52]\n",
            " [ 1 64]\n",
            " [ 1 18]\n",
            " [ 1 15]\n",
            " [ 0 47]\n",
            " [ 0 20]\n",
            " [ 0 83]\n",
            " [ 0 17]\n",
            " [ 0 55]\n",
            " [ 0 65]\n",
            " [ 1 25]\n",
            " [ 1 95]\n",
            " [ 1 58]\n",
            " [ 1 31]\n",
            " [ 1 22]\n",
            " [ 1 23]\n",
            " [ 0 16]\n",
            " [ 0 24]\n",
            " [ 0 88]\n",
            " [ 0 45]\n",
            " [ 1 15]\n",
            " [ 0 26]]\n",
            "[2017 2017 2017 2017 2017 2017 2017 2017 2017 2017 2017 2017 2018 2018\n",
            " 2018 2018 2018 2018 2018 2018 2018 2018 2018]\n"
          ]
        },
        {
          "output_type": "display_data",
          "data": {
            "text/plain": [
              "<Figure size 432x288 with 1 Axes>"
            ],
            "image/png": "[encoded data removed]"
          },
          "metadata": {
            "needs_background": "light"
          }
        }
      ],
      "source": [
        "import numpy as np\n",
        "import matplotlib.pyplot as plt\n",
        "import pandas as pd\n",
        "from sklearn.preprocessing import StandardScaler\n",
        "from sklearn.model_selection import train_test_split\n",
        "from sklearn.naive_bayes import GaussianNB\n",
        "from sklearn.metrics import confusion_matrix\n",
        "from matplotlib.colors import ListedColormap\n",
        "\n",
        "# import dataset\n",
        "dataset = pd.read_csv('data-produksi-benih-ikan-di-provinsi-dki-jakarta-tahun-2017-2019.csv')\n",
        "X = dataset.iloc[:, [2, 3]].values\n",
        "y = dataset.iloc[:, 0].values\n",
        "print(X)\n",
        "print(y)\n",
        "\n",
        "# splitting the dataset into the Training Set and Testing set\n",
        "X_train, X_test, y_train, y_test = train_test_split(X, y, test_size = 0.25, random_state = 0)\n",
        "# print('Xtrain : ', X_train)\n",
        "# # print(X_test)\n",
        "# # print(y_train)\n",
        "# # print(y_test)\n",
        "\n",
        "# Feature Scaling\n",
        "sc = StandardScaler()\n",
        "X_train = sc.fit_transform(X_train)\n",
        "X_test = sc.transform(X_test)\n",
        "\n",
        "# Training the Naive Bayes model on the Training Set\n",
        "classifier = GaussianNB()\n",
        "classifier.fit(X_train, y_train)\n",
        "\n",
        "#Predicting the Test set result\n",
        "y_pred = classifier.predict(X_test)\n",
        "\n",
        "# Making the Confusion Matrix\n",
        "cm = confusion_matrix(y_test, y_pred)\n",
        "\n",
        "#Visualising the Training Set result\n",
        "x_set, y_set = X_train, y_train\n",
        "x1, x2 = np.meshgrid(np.arange(start = x_set[:, 0].min()-1, stop = x_set[:, 0].max() + 1, step=0.01), np.arange(start = x_set[:, 1].min()-1, stop = x_set[:, 0].max() + 1, step=0.01))\n",
        "plt.contourf(x1,x2, classifier.predict(np.array([x1.ravel(), x2.ravel()]).T).reshape(x1.shape), alpha = 0.75, cmap = ListedColormap(('red' , 'green')))\n",
        "plt.xlim(x1.min(), x1.max())\n",
        "plt.xlim(x2.min(), x2.max())\n",
        "for i, j in enumerate (np.unique(y_set)):\n",
        "    plt.scatter(x_set[y_set == j, 0], x_set[y_set==j, 1],\n",
        "        c = ListedColormap(('red', 'green'))(i), label = j)\n",
        "plt.title('Klasifikasi Data dengan Naive Bayes (Data Training)')\n",
        "plt.xlabel('Tahun')\n",
        "plt.ylabel('Produksi')\n",
        "plt.legend()\n",
        "plt.show()"
      ]
    }
  ]
}